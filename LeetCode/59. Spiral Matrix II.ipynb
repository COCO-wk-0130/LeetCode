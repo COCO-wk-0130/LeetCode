{
 "cells": [
  {
   "cell_type": "code",
   "execution_count": 14,
   "metadata": {},
   "outputs": [
    {
     "name": "stdout",
     "output_type": "stream",
     "text": [
      "[[1, 2, 3], [8, 9, 4], [7, 6, 5]]\n"
     ]
    }
   ],
   "source": [
    "n = 3\n",
    "matrix = [[101 for _ in range(n)] for _ in range(n)]\n",
    "i = j = 0\n",
    "count = 1\n",
    "matrix[i][j] = count\n",
    "while True:\n",
    "    if count == n*n:\n",
    "        break\n",
    "    #Go right\n",
    "    while True:\n",
    "        if j+1 != n:\n",
    "            if matrix[i][j+1] == 101:\n",
    "                j += 1\n",
    "                count += 1\n",
    "                matrix[i][j] = count\n",
    "                continue\n",
    "        break\n",
    "    #Go down\n",
    "    while True:\n",
    "        if i+1 != n:\n",
    "            if matrix[i+1][j] == 101:\n",
    "                i += 1\n",
    "                count += 1\n",
    "                matrix[i][j] = count\n",
    "                continue\n",
    "        break\n",
    "    #Go left\n",
    "    while True:\n",
    "        if j != 0:\n",
    "            if matrix[i][j-1] == 101:\n",
    "                j -= 1\n",
    "                count += 1\n",
    "                matrix[i][j] = count\n",
    "                continue\n",
    "        break\n",
    "    #Go up\n",
    "    while True:\n",
    "        if i != 0:\n",
    "            if matrix[i-1][j] == 101:\n",
    "                i -= 1\n",
    "                count += 1\n",
    "                matrix[i][j] = count\n",
    "                continue\n",
    "        break\n",
    "print(matrix)"
   ]
  },
  {
   "cell_type": "code",
   "execution_count": 10,
   "metadata": {},
   "outputs": [
    {
     "data": {
      "text/plain": [
       "[[101, 101, 101], [101, 101, 101], [101, 101, 101]]"
      ]
     },
     "execution_count": 10,
     "metadata": {},
     "output_type": "execute_result"
    }
   ],
   "source": [
    "matrix = [[101 for _ in range(n)] for _ in range(n)]\n",
    "matrix"
   ]
  }
 ],
 "metadata": {
  "kernelspec": {
   "display_name": "basic_env",
   "language": "python",
   "name": "python3"
  },
  "language_info": {
   "codemirror_mode": {
    "name": "ipython",
    "version": 3
   },
   "file_extension": ".py",
   "mimetype": "text/x-python",
   "name": "python",
   "nbconvert_exporter": "python",
   "pygments_lexer": "ipython3",
   "version": "3.11.2"
  },
  "orig_nbformat": 4
 },
 "nbformat": 4,
 "nbformat_minor": 2
}
