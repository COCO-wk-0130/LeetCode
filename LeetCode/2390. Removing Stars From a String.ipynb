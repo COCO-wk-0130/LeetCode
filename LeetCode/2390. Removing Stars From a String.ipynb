{
 "cells": [
  {
   "attachments": {},
   "cell_type": "markdown",
   "metadata": {},
   "source": [
    "You are given a string s, which contains stars *.\n",
    "\n",
    "In one operation, you can:\n",
    "\n",
    "Choose a star in s.\n",
    "Remove the closest non-star character to its left, as well as remove the star itself.\n",
    "Return the string after all stars have been removed.\n",
    "\n",
    "Note:\n",
    "\n",
    "The input will be generated such that the operation is always possible.\n",
    "It can be shown that the resulting string will always be unique."
   ]
  },
  {
   "cell_type": "code",
   "execution_count": 18,
   "metadata": {},
   "outputs": [
    {
     "name": "stdout",
     "output_type": "stream",
     "text": [
      "lecoe\n"
     ]
    }
   ],
   "source": [
    "s = \"leet**cod*e\"\n",
    "stack = 0\n",
    "for i in range(len(s)-1, -1, -1):\n",
    "    if s[i] == \"*\":\n",
    "        s = s[:i]+s[i+1:]\n",
    "        stack += 1\n",
    "    elif stack:\n",
    "        s = s[:i]+s[i+1:]\n",
    "        stack -= 1\n",
    "print(s)\n"
   ]
  },
  {
   "cell_type": "code",
   "execution_count": 22,
   "metadata": {},
   "outputs": [
    {
     "name": "stdout",
     "output_type": "stream",
     "text": [
      "lecoe\n"
     ]
    }
   ],
   "source": [
    "#memory使用較大，但較快\n",
    "s = \"leet**cod*e\"\n",
    "ans = []\n",
    "for i in s:\n",
    "    if i == \"*\":\n",
    "        ans.pop()\n",
    "    else:\n",
    "        ans.append(i)\n",
    "print(\"\".join(ans))"
   ]
  },
  {
   "cell_type": "code",
   "execution_count": 20,
   "metadata": {},
   "outputs": [
    {
     "name": "stdout",
     "output_type": "stream",
     "text": [
      "lecoe\n"
     ]
    }
   ],
   "source": [
    "#慢，但是memory使用小\n",
    "s = \"leet**cod*e\"\n",
    "ans = \"\"\n",
    "for i in s:\n",
    "    if i == \"*\":\n",
    "        ans = ans[:-1]\n",
    "    else:\n",
    "        ans += i\n",
    "print(ans)"
   ]
  }
 ],
 "metadata": {
  "kernelspec": {
   "display_name": "ML",
   "language": "python",
   "name": "python3"
  },
  "language_info": {
   "codemirror_mode": {
    "name": "ipython",
    "version": 3
   },
   "file_extension": ".py",
   "mimetype": "text/x-python",
   "name": "python",
   "nbconvert_exporter": "python",
   "pygments_lexer": "ipython3",
   "version": "3.8.11"
  },
  "orig_nbformat": 4,
  "vscode": {
   "interpreter": {
    "hash": "240396ff0e9016db30d880cfd23fb188ac44aa882790618e05863cfeab3b9b04"
   }
  }
 },
 "nbformat": 4,
 "nbformat_minor": 2
}
