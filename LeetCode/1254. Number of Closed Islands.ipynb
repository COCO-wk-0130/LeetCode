{
 "cells": [
  {
   "cell_type": "code",
   "execution_count": 24,
   "metadata": {},
   "outputs": [
    {
     "name": "stdout",
     "output_type": "stream",
     "text": [
      "0\t1\t1\t1\t0\t\n",
      "1\t0\t1\t0\t1\t\n",
      "1\t0\t1\t0\t1\t\n",
      "1\t0\t0\t0\t1\t\n",
      "0\t1\t1\t1\t0\t\n",
      "[0, 0] \n",
      "[0, 4] \n",
      "[1, 1] [2, 1] [3, 1] [3, 2] [3, 3] [4, 3] [4, 4] \n",
      "[1, 3] [2, 3] [1, 3]\n",
      "[4, 0] \n",
      "1\n",
      "-1\t1\t1\t1\t-1\t\n",
      "1\t-1\t1\t-1\t1\t\n",
      "1\t-1\t1\t-1\t1\t\n",
      "1\t-1\t-1\t-1\t1\t\n",
      "-1\t1\t1\t-1\t-1\t\n"
     ]
    }
   ],
   "source": [
    "grid = [[0,1,1,1,0],\n",
    "        [1,0,1,0,1],\n",
    "        [1,0,1,0,1],\n",
    "        [1,0,0,0,1],\n",
    "        [0,1,1,1,0]]\n",
    "for i in grid:\n",
    "    for j in i:\n",
    "        print(j, end=\"\\t\")\n",
    "    print(\"\")\n",
    "def dfs(grid, cur, judge):\n",
    "    print(cur, end=\" \")\n",
    "    grid[cur[0]][cur[1]] = -1\n",
    "    if cur[0] == 0 or cur[1] == 0 or cur[0] == len(grid)-1 or cur[1] == len(grid[0])-1:\n",
    "        judge = False\n",
    "    #search right\n",
    "    if cur[1] != len(grid[0])-1:\n",
    "        if grid[cur[0]][cur[1]+1] == 0:\n",
    "            judge = dfs(grid, [cur[0], cur[1]+1], judge)\n",
    "    #search bot\n",
    "    if cur[0] != len(grid)-1:\n",
    "        if grid[cur[0]+1][cur[1]] == 0:\n",
    "            judge = dfs(grid, [cur[0]+1, cur[1]], judge)\n",
    "    #search left\n",
    "    if cur[1] != 0:\n",
    "        if grid[cur[0]][cur[1]-1] == 0:\n",
    "            judge = dfs(grid, [cur[0], cur[1]-1], judge)\n",
    "    #search up\n",
    "    if cur[0] != 0:\n",
    "        if grid[cur[0]-1][cur[1]] == 0:\n",
    "            judge = dfs(grid, [cur[0]+1, cur[1]], judge)\n",
    "    return judge\n",
    "\n",
    "count = 0\n",
    "for i in range(len(grid)):\n",
    "    for j in range(len(grid[i])):\n",
    "        if grid[i][j] == 0:\n",
    "            judge = True\n",
    "            cur = [i, j]\n",
    "            if dfs(grid, cur, judge):\n",
    "                count +=1\n",
    "                print(cur, end=\"\")\n",
    "            print(\"\")\n",
    "print(count)\n",
    "for i in grid:\n",
    "    for j in i:\n",
    "        print(j, end=\"\\t\")\n",
    "    print(\"\")\n"
   ]
  },
  {
   "cell_type": "code",
   "execution_count": 25,
   "metadata": {},
   "outputs": [
    {
     "ename": "NameError",
     "evalue": "name 'List' is not defined",
     "output_type": "error",
     "traceback": [
      "\u001b[1;31m---------------------------------------------------------------------------\u001b[0m",
      "\u001b[1;31mNameError\u001b[0m                                 Traceback (most recent call last)",
      "Cell \u001b[1;32mIn[25], line 1\u001b[0m\n\u001b[1;32m----> 1\u001b[0m \u001b[39mclass\u001b[39;49;00m \u001b[39mSolution\u001b[39;49;00m:\n\u001b[0;32m      2\u001b[0m     \u001b[39mdef\u001b[39;49;00m \u001b[39mdfs\u001b[39;49m(\u001b[39mself\u001b[39;49m, grid, cur, judge):\n\u001b[0;32m      3\u001b[0m         grid[cur[\u001b[39m0\u001b[39;49m]][cur[\u001b[39m1\u001b[39;49m]] \u001b[39m=\u001b[39;49m \u001b[39m-\u001b[39;49m\u001b[39m1\u001b[39;49m\n",
      "Cell \u001b[1;32mIn[25], line 24\u001b[0m, in \u001b[0;36mSolution\u001b[1;34m()\u001b[0m\n\u001b[0;32m     21\u001b[0m             judge \u001b[39m=\u001b[39m \u001b[39mself\u001b[39m\u001b[39m.\u001b[39mdfs(grid, [cur[\u001b[39m0\u001b[39m]\u001b[39m-\u001b[39m\u001b[39m1\u001b[39m, cur[\u001b[39m1\u001b[39m]], judge)\n\u001b[0;32m     22\u001b[0m     \u001b[39mreturn\u001b[39;00m judge\n\u001b[1;32m---> 24\u001b[0m \u001b[39mdef\u001b[39;00m \u001b[39mclosedIsland\u001b[39m(\u001b[39mself\u001b[39m, grid: List[List[\u001b[39mint\u001b[39m]]) \u001b[39m-\u001b[39m\u001b[39m>\u001b[39m \u001b[39mint\u001b[39m:\n\u001b[0;32m     25\u001b[0m     count \u001b[39m=\u001b[39m \u001b[39m0\u001b[39m\n\u001b[0;32m     26\u001b[0m     \u001b[39mfor\u001b[39;00m i \u001b[39min\u001b[39;00m \u001b[39mrange\u001b[39m(\u001b[39mlen\u001b[39m(grid)):\n",
      "\u001b[1;31mNameError\u001b[0m: name 'List' is not defined"
     ]
    },
    {
     "ename": "",
     "evalue": "",
     "output_type": "error",
     "traceback": [
      "\u001b[1;31mThe Kernel crashed while executing code in the the current cell or a previous cell. Please review the code in the cell(s) to identify a possible cause of the failure. Click <a href='https://aka.ms/vscodeJupyterKernelCrash'>here</a> for more info. View Jupyter <a href='command:jupyter.viewOutput'>log</a> for further details."
     ]
    }
   ],
   "source": [
    "class Solution:\n",
    "    def dfs(self, grid, cur, judge):\n",
    "        grid[cur[0]][cur[1]] = -1\n",
    "        if cur[0] == 0 or cur[1] == 0 or cur[0] == len(grid)-1 or cur[1] == len(grid[0])-1:\n",
    "            judge = False\n",
    "        #search right\n",
    "        if cur[1] != len(grid[0])-1:\n",
    "            if grid[cur[0]][cur[1]+1] == 0:\n",
    "                judge = self.dfs(grid, [cur[0], cur[1]+1], judge)\n",
    "        #search bot\n",
    "        if cur[0] != len(grid)-1:\n",
    "            if grid[cur[0]+1][cur[1]] == 0:\n",
    "                judge = self.dfs(grid, [cur[0]+1, cur[1]], judge)\n",
    "        #search left\n",
    "        if cur[1] != 0:\n",
    "            if grid[cur[0]][cur[1]-1] == 0:\n",
    "                judge = self.dfs(grid, [cur[0], cur[1]-1], judge)\n",
    "        #search up\n",
    "        if cur[0] != 0:\n",
    "            if grid[cur[0]-1][cur[1]] == 0:\n",
    "                judge = self.dfs(grid, [cur[0]-1, cur[1]], judge)\n",
    "        return judge\n",
    "\n",
    "    def closedIsland(self, grid: List[List[int]]) -> int:\n",
    "        count = 0\n",
    "        for i in range(len(grid)):\n",
    "            for j in range(len(grid[i])):\n",
    "                if grid[i][j] == 0:\n",
    "                    judge = True\n",
    "                    if self.dfs(grid, [i, j], judge):\n",
    "                        count +=1\n",
    "        return count"
   ]
  }
 ],
 "metadata": {
  "kernelspec": {
   "display_name": "basic_env",
   "language": "python",
   "name": "python3"
  },
  "language_info": {
   "codemirror_mode": {
    "name": "ipython",
    "version": 3
   },
   "file_extension": ".py",
   "mimetype": "text/x-python",
   "name": "python",
   "nbconvert_exporter": "python",
   "pygments_lexer": "ipython3",
   "version": "3.11.2"
  },
  "orig_nbformat": 4
 },
 "nbformat": 4,
 "nbformat_minor": 2
}
