{
 "cells": [
  {
   "attachments": {},
   "cell_type": "markdown",
   "metadata": {},
   "source": [
    "You are given two strings word1 and word2. Merge the strings by adding letters in alternating order, starting with word1. If a string is longer than the other, append the additional letters onto the end of the merged string.\n",
    "\n",
    "Return the merged string."
   ]
  },
  {
   "cell_type": "code",
   "execution_count": 63,
   "metadata": {},
   "outputs": [
    {
     "name": "stdout",
     "output_type": "stream",
     "text": [
      "apbqrs\n"
     ]
    }
   ],
   "source": [
    "word1 = \"ab\"\n",
    "word2 = \"pqrs\"\n",
    "word1 = list(word1)\n",
    "word2 = list(word2)\n",
    "word1.reverse()\n",
    "word2.reverse()\n",
    "result = []\n",
    "while word1 or word2:\n",
    "    if word1:\n",
    "        result.append(word1.pop())\n",
    "    if word2:\n",
    "        result.append(word2.pop())\n",
    "print(\"\".join(result))"
   ]
  },
  {
   "cell_type": "code",
   "execution_count": 68,
   "metadata": {},
   "outputs": [
    {
     "name": "stdout",
     "output_type": "stream",
     "text": [
      "apbqrs\n"
     ]
    }
   ],
   "source": [
    "word1 = \"ab\"\n",
    "word2 = \"pqrs\"\n",
    "word1 = list(word1)\n",
    "word2 = list(word2)\n",
    "word1.reverse()\n",
    "word2.reverse()\n",
    "result = \"\"\n",
    "while word1 or word2:\n",
    "    if word1:\n",
    "        result += word1.pop()\n",
    "    if word2:\n",
    "        result += word2.pop()\n",
    "print(result)"
   ]
  },
  {
   "cell_type": "code",
   "execution_count": 67,
   "metadata": {},
   "outputs": [
    {
     "name": "stdout",
     "output_type": "stream",
     "text": [
      "apbqrs\n"
     ]
    }
   ],
   "source": [
    "word1 = \"ab\"\n",
    "word2 = \"pqrs\"\n",
    "result = []\n",
    "for i in range(min(len(word1), len(word2))):\n",
    "    result.append(word1[i])\n",
    "    result.append(word2[i])\n",
    "i+=1\n",
    "result = \"\".join(result) + word1[i:] + word2[i:]\n",
    "print(result)"
   ]
  }
 ],
 "metadata": {
  "kernelspec": {
   "display_name": "basic_env",
   "language": "python",
   "name": "python3"
  },
  "language_info": {
   "codemirror_mode": {
    "name": "ipython",
    "version": 3
   },
   "file_extension": ".py",
   "mimetype": "text/x-python",
   "name": "python",
   "nbconvert_exporter": "python",
   "pygments_lexer": "ipython3",
   "version": "3.11.2"
  },
  "orig_nbformat": 4
 },
 "nbformat": 4,
 "nbformat_minor": 2
}
