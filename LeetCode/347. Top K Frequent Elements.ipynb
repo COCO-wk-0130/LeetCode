{
 "cells": [
  {
   "cell_type": "code",
   "execution_count": 13,
   "metadata": {},
   "outputs": [
    {
     "data": {
      "text/plain": [
       "[1, 2]"
      ]
     },
     "execution_count": 13,
     "metadata": {},
     "output_type": "execute_result"
    }
   ],
   "source": [
    "nums = [1,1,1,2,2,3]\n",
    "k = 2\n",
    "dic = {}\n",
    "result = []\n",
    "for ele in nums:\n",
    "    if ele in dic:\n",
    "        dic[ele] += 1\n",
    "    else:\n",
    "        dic[ele] = 1\n",
    "for i in range(k):\n",
    "    result.append(max(dic, key=dic.get))\n",
    "    dic[result[-1]] = 0\n",
    "result"
   ]
  }
 ],
 "metadata": {
  "kernelspec": {
   "display_name": "basic_env",
   "language": "python",
   "name": "python3"
  },
  "language_info": {
   "codemirror_mode": {
    "name": "ipython",
    "version": 3
   },
   "file_extension": ".py",
   "mimetype": "text/x-python",
   "name": "python",
   "nbconvert_exporter": "python",
   "pygments_lexer": "ipython3",
   "version": "3.11.2"
  },
  "orig_nbformat": 4
 },
 "nbformat": 4,
 "nbformat_minor": 2
}
