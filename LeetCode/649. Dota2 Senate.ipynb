{
 "cells": [
  {
   "cell_type": "code",
   "execution_count": 15,
   "metadata": {},
   "outputs": [],
   "source": [
    "\n",
    "def predictPartyVictory(senate):\n",
    "    rQ = []\n",
    "    dQ = []\n",
    "    for i,c in enumerate(senate):\n",
    "        if c == \"R\":\n",
    "            rQ.append(i)\n",
    "        else:\n",
    "            dQ.append(i)\n",
    "    while dQ and rQ:\n",
    "        d,r = dQ.pop(0), rQ.pop(0)\n",
    "        \n",
    "        if d < r:\n",
    "            dQ.append(d+len(senate))\n",
    "        else:\n",
    "            rQ.append(r+len(senate))\n",
    "    return \"Radiant\" if rQ else \"Dire\""
   ]
  },
  {
   "cell_type": "code",
   "execution_count": 16,
   "metadata": {},
   "outputs": [
    {
     "name": "stdout",
     "output_type": "stream",
     "text": [
      "Dire\n"
     ]
    }
   ],
   "source": [
    "senate = \"RDD\"\n",
    "result = predictPartyVictory(senate = senate)\n",
    "print(result)"
   ]
  },
  {
   "cell_type": "code",
   "execution_count": 13,
   "metadata": {},
   "outputs": [
    {
     "data": {
      "text/plain": [
       "[1, 2, 3, 5]"
      ]
     },
     "execution_count": 13,
     "metadata": {},
     "output_type": "execute_result"
    }
   ],
   "source": [
    "a = [i+1 for i in range(5)]\n",
    "a.pop(3)\n",
    "a"
   ]
  }
 ],
 "metadata": {
  "kernelspec": {
   "display_name": "basic_env",
   "language": "python",
   "name": "python3"
  },
  "language_info": {
   "codemirror_mode": {
    "name": "ipython",
    "version": 3
   },
   "file_extension": ".py",
   "mimetype": "text/x-python",
   "name": "python",
   "nbconvert_exporter": "python",
   "pygments_lexer": "ipython3",
   "version": "3.11.2"
  },
  "orig_nbformat": 4
 },
 "nbformat": 4,
 "nbformat_minor": 2
}
