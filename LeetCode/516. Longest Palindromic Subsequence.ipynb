{
 "cells": [
  {
   "cell_type": "code",
   "execution_count": 7,
   "metadata": {},
   "outputs": [
    {
     "name": "stdout",
     "output_type": "stream",
     "text": [
      "4\n"
     ]
    }
   ],
   "source": [
    "s = \"bbbab\"\n",
    "n = len(s)\n",
    "dp = [[0]*n for _ in range(n)]\n",
    "for i in range(n-1, -1, -1):\n",
    "    dp[i][i] = 1\n",
    "    for j in range(i+1, n):\n",
    "        if s[i] == s[j]:\n",
    "            dp[i][j] = dp[i+1][j-1] + 2\n",
    "        else:\n",
    "            dp[i][j] = max(dp[i+1][j], dp[i][j-1])\n",
    "print(dp[0][-1])\n"
   ]
  }
 ],
 "metadata": {
  "kernelspec": {
   "display_name": "ML",
   "language": "python",
   "name": "python3"
  },
  "language_info": {
   "codemirror_mode": {
    "name": "ipython",
    "version": 3
   },
   "file_extension": ".py",
   "mimetype": "text/x-python",
   "name": "python",
   "nbconvert_exporter": "python",
   "pygments_lexer": "ipython3",
   "version": "3.8.11"
  },
  "orig_nbformat": 4
 },
 "nbformat": 4,
 "nbformat_minor": 2
}
