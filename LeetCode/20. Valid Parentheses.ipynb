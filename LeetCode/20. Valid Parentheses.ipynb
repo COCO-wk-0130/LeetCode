{
 "cells": [
  {
   "attachments": {},
   "cell_type": "markdown",
   "metadata": {},
   "source": [
    "Given a string s containing just the characters '(', ')', '{', '}', '[' and ']', determine if the input string is valid.\n",
    "\n",
    "An input string is valid if:\n",
    "\n",
    "Open brackets must be closed by the same type of brackets.\n",
    "Open brackets must be closed in the correct order.\n",
    "Every close bracket has a corresponding open bracket of the same type."
   ]
  },
  {
   "cell_type": "code",
   "execution_count": 3,
   "metadata": {},
   "outputs": [
    {
     "name": "stdout",
     "output_type": "stream",
     "text": [
      "True\n",
      "True\n"
     ]
    }
   ],
   "source": [
    "s = \"()[]{}\"\n",
    "stack = []\n",
    "left = [\"(\", \"[\", \"{\"]\n",
    "for k in s:\n",
    "    if k in left:\n",
    "        stack.append(k)\n",
    "    elif not stack:\n",
    "        break\n",
    "    else:\n",
    "        match k:\n",
    "            case \")\":\n",
    "                if stack[-1] == \"(\":\n",
    "                    stack.pop()\n",
    "                else:\n",
    "                    break\n",
    "            case \"]\":\n",
    "                if stack[-1] == \"[\":\n",
    "                    stack.pop()\n",
    "                else:\n",
    "                    break\n",
    "            case \"}\":\n",
    "                if stack[-1] == \"{\":\n",
    "                    stack.pop()\n",
    "                else:\n",
    "                    break\n",
    "print(not stack)"
   ]
  }
 ],
 "metadata": {
  "kernelspec": {
   "display_name": "basic_env",
   "language": "python",
   "name": "python3"
  },
  "language_info": {
   "codemirror_mode": {
    "name": "ipython",
    "version": 3
   },
   "file_extension": ".py",
   "mimetype": "text/x-python",
   "name": "python",
   "nbconvert_exporter": "python",
   "pygments_lexer": "ipython3",
   "version": "3.11.2"
  },
  "orig_nbformat": 4
 },
 "nbformat": 4,
 "nbformat_minor": 2
}
