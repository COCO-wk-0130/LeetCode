{
 "cells": [
  {
   "attachments": {},
   "cell_type": "markdown",
   "metadata": {},
   "source": [
    "Given a reference of a node in a connected undirected graph.\n",
    "\n",
    "Return a deep copy (clone) of the graph.\n",
    "\n",
    "Each node in the graph contains a value (int) and a list (List[Node]) of its neighbors."
   ]
  },
  {
   "cell_type": "code",
   "execution_count": 10,
   "metadata": {},
   "outputs": [],
   "source": [
    "\"\"\"\n",
    "# Definition for a Node.\n",
    "class Node:\n",
    "    def __init__(self, val = 0, neighbors = None):\n",
    "        self.val = val\n",
    "        self.neighbors = neighbors if neighbors is not None else []\n",
    "\"\"\"\n",
    "\n",
    "class Solution:\n",
    "    def dfs(self, node, relation):\n",
    "        if node.val in relation:\n",
    "            return\n",
    "        relation[node.val] = [Node(node.val)]\n",
    "        for neighbor in node.neighbors:\n",
    "            relation[node.val].append(neighbor.val)\n",
    "            self.dfs(neighbor, relation)\n",
    "        return relation\n",
    "        \n",
    "\n",
    "    def cloneGraph(self, node: 'Node') -> 'Node':\n",
    "        if node == None:\n",
    "            return None\n",
    "        relation = self.dfs(node, {})\n",
    "        for node in relation:\n",
    "            for i in range(1, len(relation[node])):\n",
    "                relation[node][0].neighbors.append(relation[relation[node][i]][0])\n",
    "        return relation[1][0]"
   ]
  },
  {
   "cell_type": "code",
   "execution_count": 5,
   "metadata": {},
   "outputs": [
    {
     "name": "stdout",
     "output_type": "stream",
     "text": [
      "3\n"
     ]
    }
   ],
   "source": []
  }
 ],
 "metadata": {
  "kernelspec": {
   "display_name": "basic_env",
   "language": "python",
   "name": "python3"
  },
  "language_info": {
   "codemirror_mode": {
    "name": "ipython",
    "version": 3
   },
   "file_extension": ".py",
   "mimetype": "text/x-python",
   "name": "python",
   "nbconvert_exporter": "python",
   "pygments_lexer": "ipython3",
   "version": "3.11.2"
  },
  "orig_nbformat": 4
 },
 "nbformat": 4,
 "nbformat_minor": 2
}
