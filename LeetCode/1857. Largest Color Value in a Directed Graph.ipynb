{
 "cells": [
  {
   "attachments": {},
   "cell_type": "markdown",
   "metadata": {},
   "source": [
    "There is a directed graph of n colored nodes and m edges. The nodes are numbered from 0 to n - 1.\n",
    "\n",
    "You are given a string colors where colors[i] is a lowercase English letter representing the color of the ith node in this graph (0-indexed). You are also given a 2D array edges where edges[j] = [aj, bj] indicates that there is a directed edge from node aj to node bj.\n",
    "\n",
    "A valid path in the graph is a sequence of nodes x1 -> x2 -> x3 -> ... -> xk such that there is a directed edge from xi to xi+1 for every 1 <= i < k. The color value of the path is the number of nodes that are colored the most frequently occurring color along that path.\n",
    "\n",
    "Return the largest color value of any valid path in the given graph, or -1 if the graph contains a cycle."
   ]
  },
  {
   "cell_type": "code",
   "execution_count": 60,
   "metadata": {},
   "outputs": [
    {
     "name": "stdout",
     "output_type": "stream",
     "text": [
      "[{'g': 1}]\n",
      "1\n"
     ]
    }
   ],
   "source": [
    "#colors = \"iivvvvv\"\n",
    "colors = \"g\"\n",
    "#edges = [[0,1],[1,2],[1,3],[2,3],[3,4],[2,4],[3,5],[1,5],[4,5],[5,6]]\n",
    "edges = []\n",
    "\n",
    "def merge_dic(i, j, dp, colors, max):\n",
    "    for key, value in dp[j].items():\n",
    "        if key in dp[i]:\n",
    "            if dp[i][key] <= value:\n",
    "                dp[i][key] = value\n",
    "                if key == colors[i]:\n",
    "                    dp[i][key] += 1\n",
    "                    if dp[i][key] > max:\n",
    "                        max = dp[i][key]\n",
    "        else:\n",
    "            dp[i][key] = value\n",
    "    return max\n",
    "\n",
    "n = len(colors)\n",
    "edge_table = [[] for i in range(n)]\n",
    "for edge in edges:\n",
    "    edge_table[edge[1]].append(edge[0])\n",
    "\n",
    "dp = [{colors[i]:1} for i in range(n)]\n",
    "max = 1\n",
    "for i in range(n):\n",
    "    mark = False\n",
    "    for edge in edge_table[i]:\n",
    "        max = merge_dic(i, edge, dp, colors, max) \n",
    "        \n",
    "for i in range(n):\n",
    "    for edge in edge_table[i]:\n",
    "        if colors[i] in dp[edge] and dp[edge][colors[i]] >= dp[i][colors[i]]:\n",
    "            print(\"here\")\n",
    "print(dp)\n",
    "print(max)"
   ]
  },
  {
   "cell_type": "code",
   "execution_count": 51,
   "metadata": {},
   "outputs": [
    {
     "data": {
      "text/plain": [
       "[[], [0], [1], [1, 2], [3, 2], [3, 1, 4], [5]]"
      ]
     },
     "execution_count": 51,
     "metadata": {},
     "output_type": "execute_result"
    }
   ],
   "source": [
    "edge_table"
   ]
  }
 ],
 "metadata": {
  "kernelspec": {
   "display_name": "basic_env",
   "language": "python",
   "name": "python3"
  },
  "language_info": {
   "codemirror_mode": {
    "name": "ipython",
    "version": 3
   },
   "file_extension": ".py",
   "mimetype": "text/x-python",
   "name": "python",
   "nbconvert_exporter": "python",
   "pygments_lexer": "ipython3",
   "version": "3.11.2"
  },
  "orig_nbformat": 4
 },
 "nbformat": 4,
 "nbformat_minor": 2
}
