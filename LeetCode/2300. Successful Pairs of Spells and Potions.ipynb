{
 "cells": [
  {
   "cell_type": "code",
   "execution_count": 59,
   "metadata": {},
   "outputs": [
    {
     "name": "stdout",
     "output_type": "stream",
     "text": [
      "[4, 0, 3]\n"
     ]
    }
   ],
   "source": [
    "\n",
    "spells = [5, 1, 3]\n",
    "potions = [1, 2, 3, 4, 5]\n",
    "potions.sort()\n",
    "success = 7\n",
    "pair = []\n",
    "for i in range(len(spells)):\n",
    "    if spells[i] > success:\n",
    "        pair.append(len(potions))\n",
    "        continue\n",
    "    target = success / spells[i]\n",
    "    head = 0\n",
    "    tail = len(potions)-1\n",
    "    while head <= tail:\n",
    "        mid = (head + tail) // 2\n",
    "        if potions[mid] >= target:\n",
    "            tail = mid-1\n",
    "        else:\n",
    "            head = mid+1\n",
    "    pair.append(len(potions) - (head))\n",
    "print(pair)"
   ]
  },
  {
   "cell_type": "code",
   "execution_count": 52,
   "metadata": {},
   "outputs": [
    {
     "ename": "NameError",
     "evalue": "name 'bisect_left' is not defined",
     "output_type": "error",
     "traceback": [
      "\u001b[1;31m---------------------------------------------------------------------------\u001b[0m",
      "\u001b[1;31mNameError\u001b[0m                                 Traceback (most recent call last)",
      "Cell \u001b[1;32mIn[52], line 3\u001b[0m\n\u001b[0;32m      1\u001b[0m \u001b[39mimport\u001b[39;00m \u001b[39mbisect\u001b[39;00m\n\u001b[0;32m      2\u001b[0m temp \u001b[39m=\u001b[39m [i \u001b[39mfor\u001b[39;00m i \u001b[39min\u001b[39;00m \u001b[39mrange\u001b[39m(\u001b[39m10\u001b[39m)]\n\u001b[1;32m----> 3\u001b[0m \u001b[39mprint\u001b[39m(bisect_left(temp, \u001b[39m3\u001b[39m))\n",
      "\u001b[1;31mNameError\u001b[0m: name 'bisect_left' is not defined"
     ]
    }
   ],
   "source": [
    "import bisect\n",
    "temp = [i for i in range(10)]\n",
    "print(bisect_left(temp, 3))"
   ]
  }
 ],
 "metadata": {
  "kernelspec": {
   "display_name": "basic_env",
   "language": "python",
   "name": "python3"
  },
  "language_info": {
   "codemirror_mode": {
    "name": "ipython",
    "version": 3
   },
   "file_extension": ".py",
   "mimetype": "text/x-python",
   "name": "python",
   "nbconvert_exporter": "python",
   "pygments_lexer": "ipython3",
   "version": "3.11.2"
  },
  "orig_nbformat": 4
 },
 "nbformat": 4,
 "nbformat_minor": 2
}
