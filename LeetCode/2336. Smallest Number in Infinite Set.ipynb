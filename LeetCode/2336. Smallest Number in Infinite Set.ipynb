{
 "cells": [
  {
   "cell_type": "code",
   "execution_count": 12,
   "metadata": {},
   "outputs": [],
   "source": [
    "class SmallestInfiniteSet:\n",
    "\n",
    "    def __init__(self):\n",
    "        self.set = []\n",
    "        self.min = 1\n",
    "\n",
    "    def popSmallest(self) -> int:\n",
    "        self.set.append(self.min)\n",
    "        temp = self.min\n",
    "        self.min += 1\n",
    "        while self.min in self.set:\n",
    "            self.min += 1\n",
    "        return temp\n",
    "\n",
    "\n",
    "    def addBack(self, num: int) -> None:\n",
    "        if num in self.set:\n",
    "            self.set.remove(num)\n",
    "            if num < self.min:\n",
    "                self.min = num"
   ]
  },
  {
   "cell_type": "code",
   "execution_count": 7,
   "metadata": {},
   "outputs": [],
   "source": [
    "#還沒完成就直接過了\n",
    "I = [\"addBack\", \"popSmallest\", \"popSmallest\", \"popSmallest\", \"addBack\", \"popSmallest\", \"popSmallest\", \"popSmallest\"]\n",
    "test = SmallestInfiniteSet()\n",
    "param = []\n",
    "for i in I:\n",
    "    match i:\n",
    "        case \"addBack\":\n",
    "            test.addBack(0)\n",
    "        case \"popSmallest\":\n",
    "            param.append(test.popSmallest())\n",
    "print()\n"
   ]
  }
 ],
 "metadata": {
  "kernelspec": {
   "display_name": "basic_env",
   "language": "python",
   "name": "python3"
  },
  "language_info": {
   "codemirror_mode": {
    "name": "ipython",
    "version": 3
   },
   "file_extension": ".py",
   "mimetype": "text/x-python",
   "name": "python",
   "nbconvert_exporter": "python",
   "pygments_lexer": "ipython3",
   "version": "3.11.2"
  },
  "orig_nbformat": 4
 },
 "nbformat": 4,
 "nbformat_minor": 2
}
