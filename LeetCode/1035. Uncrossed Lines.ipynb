{
 "cells": [
  {
   "cell_type": "code",
   "execution_count": 22,
   "metadata": {},
   "outputs": [
    {
     "name": "stdout",
     "output_type": "stream",
     "text": [
      "[0, 0, 0, 0, 0, 0]\n",
      "[0, 0, 0, 0, 0, 0]\n",
      "[0, 0, 1, 1, 1, 1]\n",
      "[0, 1, 1, 1, 2, 2]\n",
      "[0, 1, 1, 2, 2, 2]\n",
      "[0, 1, 2, 2, 2, 3]\n",
      "[0, 1, 2, 2, 3, 3]\n"
     ]
    }
   ],
   "source": [
    "nums1 = [2,5,1,2,5]\n",
    "nums2 = [10,5,2,1,5,2]\n",
    "N = len(nums1)\n",
    "M = len(nums2)\n",
    "dp = [[0 for _ in range(N+1)] for _ in range(M+1)]\n",
    "for m in range(1, M+1):\n",
    "    for n in range(1, N+1):\n",
    "        if nums1[n-1] == nums2[m-1]:\n",
    "            dp[m][n] = max([dp[m-1][n], dp[m][n-1], dp[m-1][n-1]+1])\n",
    "        else:\n",
    "            dp[m][n] = max([dp[m-1][n], dp[m][n-1], dp[m-1][n-1]])\n",
    "for l in dp:\n",
    "    print(l)"
   ]
  }
 ],
 "metadata": {
  "kernelspec": {
   "display_name": "basic_env",
   "language": "python",
   "name": "python3"
  },
  "language_info": {
   "codemirror_mode": {
    "name": "ipython",
    "version": 3
   },
   "file_extension": ".py",
   "mimetype": "text/x-python",
   "name": "python",
   "nbconvert_exporter": "python",
   "pygments_lexer": "ipython3",
   "version": "3.11.2"
  },
  "orig_nbformat": 4
 },
 "nbformat": 4,
 "nbformat_minor": 2
}
