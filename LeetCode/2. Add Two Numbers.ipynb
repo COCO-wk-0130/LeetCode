{
 "cells": [
  {
   "cell_type": "code",
   "execution_count": 5,
   "metadata": {},
   "outputs": [],
   "source": [
    "class ListNode:\n",
    "    def __init__(self, val=0, next=None):\n",
    "        self.val = val\n",
    "        self.next = next"
   ]
  },
  {
   "cell_type": "code",
   "execution_count": 22,
   "metadata": {},
   "outputs": [
    {
     "name": "stdout",
     "output_type": "stream",
     "text": [
      "5\n",
      "6\n",
      "4\n"
     ]
    }
   ],
   "source": [
    "a = [2, 4, 3]\n",
    "b = [5, 6, 4]\n",
    "l1 = ListNode()\n",
    "ptr = l1\n",
    "for i in a:\n",
    "    ptr.val = i\n",
    "    ptr.next = ListNode()\n",
    "    ptr = ptr.next\n",
    "l2 = ListNode()\n",
    "ptr = l2\n",
    "for i in b:\n",
    "    ptr.val = i\n",
    "    ptr.next = ListNode()\n",
    "    ptr = ptr.next\n",
    "ptr = l1\n",
    "for i in range(len(a)):\n",
    "    if i == len(a)-1:\n",
    "        ptr.next = None\n",
    "    ptr = ptr.next\n",
    "ptr = l2\n",
    "for i in range(len(b)):\n",
    "    if i == len(b)-1:\n",
    "        ptr.next = None\n",
    "    ptr = ptr.next\n",
    "ptr = l2\n",
    "while ptr:\n",
    "    print(ptr.val)\n",
    "    ptr = ptr.next"
   ]
  },
  {
   "cell_type": "code",
   "execution_count": 41,
   "metadata": {},
   "outputs": [],
   "source": [
    "def solution(l1, l2):\n",
    "        ans = l1\n",
    "        carry_bit = 0\n",
    "        while (l1 and l2):\n",
    "            print(l1.val, l2.val, carry_bit)\n",
    "            l1.val += l2.val+carry_bit\n",
    "            if l1.val > 9:\n",
    "                carry_bit = 1\n",
    "                l1.val %= 10\n",
    "            else:\n",
    "                carry_bit = 0\n",
    "            if l1.next and l2.next:\n",
    "                l1 = l1.next\n",
    "                l2 = l2.next\n",
    "            elif l2.next:\n",
    "                l1.next = l2.next\n",
    "            else:\n",
    "                l2 = None\n",
    "                continue\n",
    "        if l2:\n",
    "            l1.next = l2.next\n",
    "        l1 = l1.next\n",
    "        print(l1.val)\n",
    "        ptr = ans\n",
    "        print(\"ptr:\")\n",
    "        while ptr:\n",
    "            print(ptr.val, end = \" \")\n",
    "            ptr = ptr.next\n",
    "        while l1 and carry_bit:\n",
    "            l1.val += carry_bit\n",
    "            if l1.val > 9:\n",
    "                l1.val %= 10\n",
    "            else:\n",
    "                break\n",
    "        return ans"
   ]
  },
  {
   "cell_type": "code",
   "execution_count": 42,
   "metadata": {},
   "outputs": [
    {
     "name": "stdout",
     "output_type": "stream",
     "text": [
      "9\n",
      "9\n",
      "9\n",
      "9\n",
      "9 9 0\n",
      "9 9 1\n",
      "9 9 1\n",
      "9 9 1\n",
      "9\n",
      "ptr:\n",
      "8 9 9 9 9 9 9 \n",
      "ans:\n",
      "8 9 9 9 1 9 9 "
     ]
    }
   ],
   "source": [
    "a = [9,9,9,9,9,9,9]\n",
    "b = [9, 9, 9, 9]\n",
    "l1 = ListNode()\n",
    "ptr = l1\n",
    "for i in a:\n",
    "    ptr.val = i\n",
    "    ptr.next = ListNode()\n",
    "    ptr = ptr.next\n",
    "l2 = ListNode()\n",
    "ptr = l2\n",
    "for i in b:\n",
    "    ptr.val = i\n",
    "    ptr.next = ListNode()\n",
    "    ptr = ptr.next\n",
    "ptr = l1\n",
    "for i in range(len(a)):\n",
    "    if i == len(a)-1:\n",
    "        ptr.next = None\n",
    "    ptr = ptr.next\n",
    "ptr = l2\n",
    "for i in range(len(b)):\n",
    "    if i == len(b)-1:\n",
    "        ptr.next = None\n",
    "    ptr = ptr.next\n",
    "ptr = l2\n",
    "while ptr:\n",
    "    print(ptr.val)\n",
    "    ptr = ptr.next\n",
    "ans = solution(l1, l2)\n",
    "print(\"\\nans:\")\n",
    "while ans:\n",
    "    print(ans.val, end=\" \")\n",
    "    ans = ans.next"
   ]
  }
 ],
 "metadata": {
  "kernelspec": {
   "display_name": "ML",
   "language": "python",
   "name": "python3"
  },
  "language_info": {
   "codemirror_mode": {
    "name": "ipython",
    "version": 3
   },
   "file_extension": ".py",
   "mimetype": "text/x-python",
   "name": "python",
   "nbconvert_exporter": "python",
   "pygments_lexer": "ipython3",
   "version": "3.8.11"
  },
  "orig_nbformat": 4
 },
 "nbformat": 4,
 "nbformat_minor": 2
}
