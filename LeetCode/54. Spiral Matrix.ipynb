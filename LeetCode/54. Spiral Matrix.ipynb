{
 "cells": [
  {
   "cell_type": "code",
   "execution_count": 6,
   "metadata": {},
   "outputs": [
    {
     "name": "stdout",
     "output_type": "stream",
     "text": [
      "[1, 2, 3, 6, 9, 8, 7, 4, 5]\n"
     ]
    }
   ],
   "source": [
    "matrix = [[1,2,3],[4,5,6],[7,8,9]]\n",
    "i = j = 0\n",
    "n = len(matrix[0])\n",
    "m = len(matrix)\n",
    "ans = [matrix[0][0]]\n",
    "matrix[0][0] = 101\n",
    "while True:\n",
    "    if len(ans) == n*m:\n",
    "        break\n",
    "    #Go right\n",
    "    while True:\n",
    "        if j+1 != n:\n",
    "            if matrix[i][j+1] != 101:\n",
    "                j += 1\n",
    "                ans.append(matrix[i][j])\n",
    "                matrix[i][j] = 101\n",
    "                continue\n",
    "        break\n",
    "    #Go down\n",
    "    while True:\n",
    "        if i+1 != m:\n",
    "            if matrix[i+1][j] != 101:\n",
    "                i += 1\n",
    "                ans.append(matrix[i][j])\n",
    "                matrix[i][j] = 101\n",
    "                continue\n",
    "        break\n",
    "    #Go left\n",
    "    while True:\n",
    "        if j != 0:\n",
    "            if matrix[i][j-1] != 101:\n",
    "                j -= 1\n",
    "                ans.append(matrix[i][j])\n",
    "                matrix[i][j] = 101\n",
    "                continue\n",
    "        break\n",
    "    #Go up\n",
    "    while True:\n",
    "        if i != 0:\n",
    "            if matrix[i-1][j] != 101:\n",
    "                i -= 1\n",
    "                ans.append(matrix[i][j])\n",
    "                matrix[i][j] = 101\n",
    "                continue\n",
    "        break\n",
    "print(ans)"
   ]
  }
 ],
 "metadata": {
  "kernelspec": {
   "display_name": "basic_env",
   "language": "python",
   "name": "python3"
  },
  "language_info": {
   "codemirror_mode": {
    "name": "ipython",
    "version": 3
   },
   "file_extension": ".py",
   "mimetype": "text/x-python",
   "name": "python",
   "nbconvert_exporter": "python",
   "pygments_lexer": "ipython3",
   "version": "3.11.2"
  },
  "orig_nbformat": 4
 },
 "nbformat": 4,
 "nbformat_minor": 2
}
