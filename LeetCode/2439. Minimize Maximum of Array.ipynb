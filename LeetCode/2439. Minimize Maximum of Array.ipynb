{
 "cells": [
  {
   "attachments": {},
   "cell_type": "markdown",
   "metadata": {},
   "source": [
    "You are given a 0-indexed array nums comprising of n non-negative integers.\n",
    "\n",
    "In one operation, you must:\n",
    "\n",
    "Choose an integer i such that 1 <= i < n and nums[i] > 0.\n",
    "Decrease nums[i] by 1.\n",
    "Increase nums[i - 1] by 1.\n",
    "Return the minimum possible value of the maximum integer of nums after performing any number of operations."
   ]
  },
  {
   "cell_type": "code",
   "execution_count": 111,
   "metadata": {},
   "outputs": [
    {
     "name": "stdout",
     "output_type": "stream",
     "text": [
      "9\n"
     ]
    }
   ],
   "source": [
    "nums = [4,7,2,2,9,19,16,0,3,15]\n",
    "total_sum = 0\n",
    "result = 0\n",
    "for index in range(len(nums)):\n",
    "    total_sum += nums[index]\n",
    "    result = max(result, (total_sum + index) / (index + 1))\n",
    "print(result)\n",
    "\n",
    "#ceil(total_sum / (index + 1)) <==> (total_sum + index) / (index + 1) \n",
    "#向上取整的不同寫法，後者執行速度較快，且不需要呼叫函數"
   ]
  }
 ],
 "metadata": {
  "kernelspec": {
   "display_name": "basic_env",
   "language": "python",
   "name": "python3"
  },
  "language_info": {
   "codemirror_mode": {
    "name": "ipython",
    "version": 3
   },
   "file_extension": ".py",
   "mimetype": "text/x-python",
   "name": "python",
   "nbconvert_exporter": "python",
   "pygments_lexer": "ipython3",
   "version": "3.11.2"
  },
  "orig_nbformat": 4
 },
 "nbformat": 4,
 "nbformat_minor": 2
}
