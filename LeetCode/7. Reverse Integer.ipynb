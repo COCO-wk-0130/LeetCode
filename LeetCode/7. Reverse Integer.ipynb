{
 "cells": [
  {
   "cell_type": "code",
   "execution_count": 16,
   "metadata": {},
   "outputs": [
    {
     "name": "stdout",
     "output_type": "stream",
     "text": [
      "0\n"
     ]
    }
   ],
   "source": [
    "x = 1534236469\n",
    "bound = [-2147483648, 2147483647]\n",
    "sign = -1 if x < 0 else 1\n",
    "result = 0\n",
    "x = abs(x)\n",
    "while x // 10:\n",
    "    result += x % 10\n",
    "    x //= 10\n",
    "    result *=10\n",
    "result += x % 10\n",
    "if result > bound[0] and result < bound[1]:\n",
    "    result *= sign\n",
    "    print(result)\n",
    "else:\n",
    "    print(0)"
   ]
  }
 ],
 "metadata": {
  "kernelspec": {
   "display_name": "basic_env",
   "language": "python",
   "name": "python3"
  },
  "language_info": {
   "codemirror_mode": {
    "name": "ipython",
    "version": 3
   },
   "file_extension": ".py",
   "mimetype": "text/x-python",
   "name": "python",
   "nbconvert_exporter": "python",
   "pygments_lexer": "ipython3",
   "version": "3.11.2"
  },
  "orig_nbformat": 4
 },
 "nbformat": 4,
 "nbformat_minor": 2
}
