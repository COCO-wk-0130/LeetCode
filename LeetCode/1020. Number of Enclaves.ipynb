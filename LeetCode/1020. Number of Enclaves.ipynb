{
 "cells": [
  {
   "cell_type": "markdown",
   "metadata": {},
   "source": []
  },
  {
   "cell_type": "code",
   "execution_count": 14,
   "metadata": {},
   "outputs": [
    {
     "name": "stdout",
     "output_type": "stream",
     "text": [
      "0\t0\t0\t1\t1\t1\t0\t1\t0\t0\t\n",
      "1\t1\t0\t0\t0\t1\t0\t1\t1\t1\t\n",
      "0\t0\t0\t1\t1\t1\t0\t1\t0\t0\t\n",
      "0\t1\t1\t0\t0\t0\t1\t0\t1\t0\t\n",
      "0\t1\t1\t1\t1\t1\t0\t0\t1\t0\t\n",
      "0\t0\t1\t0\t1\t1\t1\t1\t0\t1\t\n",
      "0\t1\t1\t0\t0\t0\t1\t1\t1\t1\t\n",
      "0\t0\t1\t0\t0\t1\t0\t1\t0\t1\t\n",
      "1\t0\t1\t0\t1\t1\t0\t0\t0\t0\t\n",
      "0\t0\t0\t0\t1\t1\t0\t0\t0\t1\t\n",
      "[0, 3] [0, 3]\n",
      "[0, 4] [0, 4]\n",
      "[0, 5] [1, 5] [2, 5] [2, 4] [2, 3] \n",
      "[0, 7] [1, 7] [1, 7]\n",
      "[1, 8] [1, 8]\n",
      "[1, 9] [2, 7] \n",
      "[1, 0] [1, 0]\n",
      "[1, 1] \n",
      "[3, 1] [3, 1]\n",
      "[3, 2] [4, 2] [4, 2]\n",
      "[4, 3] [4, 3]\n",
      "[4, 4] [4, 4]\n",
      "[4, 5] [5, 5] [5, 5]\n",
      "[5, 6] [5, 6]\n",
      "[5, 7] [6, 7] [6, 7]\n",
      "[6, 8] [6, 8]\n",
      "[6, 9] [7, 9] [5, 9] [7, 7] [6, 6] [5, 4] [5, 2] [6, 2] [7, 2] [8, 2] [6, 1] [4, 1] \n",
      "[3, 6] [3, 6]\n",
      "[3, 8] [4, 8] [3, 8]\n",
      "[7, 5] [8, 5] [9, 5] [9, 4] [8, 4] \n",
      "[8, 0] \n",
      "[9, 9] \n",
      "3\n",
      "0\t0\t0\t-1\t-1\t-1\t0\t-1\t0\t0\t\n",
      "-1\t-1\t0\t0\t0\t-1\t0\t-1\t-1\t-1\t\n",
      "0\t0\t0\t-1\t-1\t-1\t0\t-1\t0\t0\t\n",
      "0\t-1\t-1\t0\t0\t0\t-1\t0\t-1\t0\t\n",
      "0\t-1\t-1\t-1\t-1\t-1\t0\t0\t-1\t0\t\n",
      "0\t0\t-1\t0\t-1\t-1\t-1\t-1\t0\t-1\t\n",
      "0\t-1\t-1\t0\t0\t0\t-1\t-1\t-1\t-1\t\n",
      "0\t0\t-1\t0\t0\t-1\t0\t-1\t0\t-1\t\n",
      "-1\t0\t-1\t0\t-1\t-1\t0\t0\t0\t0\t\n",
      "0\t0\t0\t0\t-1\t-1\t0\t0\t0\t-1\t\n"
     ]
    },
    {
     "ename": "",
     "evalue": "",
     "output_type": "error",
     "traceback": [
      "\u001b[1;31mThe Kernel crashed while executing code in the the current cell or a previous cell. Please review the code in the cell(s) to identify a possible cause of the failure. Click <a href='https://aka.ms/vscodeJupyterKernelCrash'>here</a> for more info. View Jupyter <a href='command:jupyter.viewOutput'>log</a> for further details."
     ]
    }
   ],
   "source": [
    "grid = [[0,0,0,1,1,1,0,1,0,0],[1,1,0,0,0,1,0,1,1,1],[0,0,0,1,1,1,0,1,0,0],[0,1,1,0,0,0,1,0,1,0],[0,1,1,1,1,1,0,0,1,0],[0,0,1,0,1,1,1,1,0,1],[0,1,1,0,0,0,1,1,1,1],[0,0,1,0,0,1,0,1,0,1],[1,0,1,0,1,1,0,0,0,0],[0,0,0,0,1,1,0,0,0,1]]\n",
    "\n",
    "for i in grid:\n",
    "    for j in i:\n",
    "        print(j, end=\"\\t\")\n",
    "    print(\"\")\n",
    "\n",
    "def dfs(grid, cur, judge, land_size):\n",
    "    land_size += 1\n",
    "    print(cur, end=\" \")\n",
    "    grid[cur[0]][cur[1]] = -1\n",
    "    if cur[0] == 0 or cur[1] == 0 or cur[0] == len(grid)-1 or cur[1] == len(grid[0])-1:\n",
    "        judge = False\n",
    "    #search right\n",
    "    if cur[1] != (len(grid[0])-1):\n",
    "        if grid[cur[0]][cur[1]+1] == 1:\n",
    "            print(cur)\n",
    "            judge, land_size = dfs(grid, [cur[0], cur[1]+1], judge, land_size)\n",
    "    #search bot\n",
    "    if cur[0] != len(grid)-1:\n",
    "        if grid[cur[0]+1][cur[1]] == 1:\n",
    "            judge, land_size = dfs(grid, [cur[0]+1, cur[1]], judge, land_size)\n",
    "    #search left\n",
    "    if cur[1] != 0:\n",
    "        if grid[cur[0]][cur[1]-1] == 1:\n",
    "            judge, land_size = dfs(grid, [cur[0], cur[1]-1], judge, land_size)\n",
    "    #search up\n",
    "    if cur[0] != 0:\n",
    "        if grid[cur[0]-1][cur[1]] == 1:\n",
    "            judge, land_size = dfs(grid, [cur[0]-1, cur[1]], judge, land_size)\n",
    "    return judge, land_size\n",
    "\n",
    "count = 0\n",
    "for i in range(len(grid)):\n",
    "    for j in range(len(grid[i])):\n",
    "        if grid[i][j] == 1:\n",
    "            judge = True\n",
    "            cur = [i, j]\n",
    "            judge, land_size = dfs(grid, cur, judge, 0)\n",
    "            if judge:\n",
    "                count += land_size\n",
    "                print(cur, end=\"\")\n",
    "            print(\"\")\n",
    "print(count)\n",
    "for i in grid:\n",
    "    for j in i:\n",
    "        print(j, end=\"\\t\")\n",
    "    print(\"\")"
   ]
  },
  {
   "cell_type": "code",
   "execution_count": 13,
   "metadata": {},
   "outputs": [
    {
     "name": "stdout",
     "output_type": "stream",
     "text": [
      "[7, 5] [8, 5] [9, 5] [9, 4] [10, 4] "
     ]
    },
    {
     "ename": "IndexError",
     "evalue": "list index out of range",
     "output_type": "error",
     "traceback": [
      "\u001b[1;31m---------------------------------------------------------------------------\u001b[0m",
      "\u001b[1;31mIndexError\u001b[0m                                Traceback (most recent call last)",
      "Cell \u001b[1;32mIn[13], line 3\u001b[0m\n\u001b[0;32m      1\u001b[0m grid \u001b[39m=\u001b[39m [[\u001b[39m0\u001b[39m,\u001b[39m0\u001b[39m,\u001b[39m0\u001b[39m,\u001b[39m1\u001b[39m,\u001b[39m1\u001b[39m,\u001b[39m1\u001b[39m,\u001b[39m0\u001b[39m,\u001b[39m1\u001b[39m,\u001b[39m0\u001b[39m,\u001b[39m0\u001b[39m],[\u001b[39m1\u001b[39m,\u001b[39m1\u001b[39m,\u001b[39m0\u001b[39m,\u001b[39m0\u001b[39m,\u001b[39m0\u001b[39m,\u001b[39m1\u001b[39m,\u001b[39m0\u001b[39m,\u001b[39m1\u001b[39m,\u001b[39m1\u001b[39m,\u001b[39m1\u001b[39m],[\u001b[39m0\u001b[39m,\u001b[39m0\u001b[39m,\u001b[39m0\u001b[39m,\u001b[39m1\u001b[39m,\u001b[39m1\u001b[39m,\u001b[39m1\u001b[39m,\u001b[39m0\u001b[39m,\u001b[39m1\u001b[39m,\u001b[39m0\u001b[39m,\u001b[39m0\u001b[39m],[\u001b[39m0\u001b[39m,\u001b[39m1\u001b[39m,\u001b[39m1\u001b[39m,\u001b[39m0\u001b[39m,\u001b[39m0\u001b[39m,\u001b[39m0\u001b[39m,\u001b[39m1\u001b[39m,\u001b[39m0\u001b[39m,\u001b[39m1\u001b[39m,\u001b[39m0\u001b[39m],[\u001b[39m0\u001b[39m,\u001b[39m1\u001b[39m,\u001b[39m1\u001b[39m,\u001b[39m1\u001b[39m,\u001b[39m1\u001b[39m,\u001b[39m1\u001b[39m,\u001b[39m0\u001b[39m,\u001b[39m0\u001b[39m,\u001b[39m1\u001b[39m,\u001b[39m0\u001b[39m],[\u001b[39m0\u001b[39m,\u001b[39m0\u001b[39m,\u001b[39m1\u001b[39m,\u001b[39m0\u001b[39m,\u001b[39m1\u001b[39m,\u001b[39m1\u001b[39m,\u001b[39m1\u001b[39m,\u001b[39m1\u001b[39m,\u001b[39m0\u001b[39m,\u001b[39m1\u001b[39m],[\u001b[39m0\u001b[39m,\u001b[39m1\u001b[39m,\u001b[39m1\u001b[39m,\u001b[39m0\u001b[39m,\u001b[39m0\u001b[39m,\u001b[39m0\u001b[39m,\u001b[39m1\u001b[39m,\u001b[39m1\u001b[39m,\u001b[39m1\u001b[39m,\u001b[39m1\u001b[39m],[\u001b[39m0\u001b[39m,\u001b[39m0\u001b[39m,\u001b[39m1\u001b[39m,\u001b[39m0\u001b[39m,\u001b[39m0\u001b[39m,\u001b[39m1\u001b[39m,\u001b[39m0\u001b[39m,\u001b[39m1\u001b[39m,\u001b[39m0\u001b[39m,\u001b[39m1\u001b[39m],[\u001b[39m1\u001b[39m,\u001b[39m0\u001b[39m,\u001b[39m1\u001b[39m,\u001b[39m0\u001b[39m,\u001b[39m1\u001b[39m,\u001b[39m1\u001b[39m,\u001b[39m0\u001b[39m,\u001b[39m0\u001b[39m,\u001b[39m0\u001b[39m,\u001b[39m0\u001b[39m],[\u001b[39m0\u001b[39m,\u001b[39m0\u001b[39m,\u001b[39m0\u001b[39m,\u001b[39m0\u001b[39m,\u001b[39m1\u001b[39m,\u001b[39m1\u001b[39m,\u001b[39m0\u001b[39m,\u001b[39m0\u001b[39m,\u001b[39m0\u001b[39m,\u001b[39m1\u001b[39m]]\n\u001b[1;32m----> 3\u001b[0m result \u001b[39m=\u001b[39m dfs(grid, [\u001b[39m7\u001b[39;49m, \u001b[39m5\u001b[39;49m], \u001b[39mTrue\u001b[39;49;00m, \u001b[39m0\u001b[39;49m)\n",
      "Cell \u001b[1;32mIn[12], line 22\u001b[0m, in \u001b[0;36mdfs\u001b[1;34m(grid, cur, judge, land_size)\u001b[0m\n\u001b[0;32m     20\u001b[0m \u001b[39mif\u001b[39;00m cur[\u001b[39m0\u001b[39m] \u001b[39m!=\u001b[39m (\u001b[39mlen\u001b[39m(grid)\u001b[39m-\u001b[39m\u001b[39m1\u001b[39m):\n\u001b[0;32m     21\u001b[0m     \u001b[39mif\u001b[39;00m grid[cur[\u001b[39m0\u001b[39m]\u001b[39m+\u001b[39m\u001b[39m1\u001b[39m][cur[\u001b[39m1\u001b[39m]] \u001b[39m==\u001b[39m \u001b[39m1\u001b[39m:\n\u001b[1;32m---> 22\u001b[0m         judge, land_size \u001b[39m=\u001b[39m dfs(grid, [cur[\u001b[39m0\u001b[39;49m]\u001b[39m+\u001b[39;49m\u001b[39m1\u001b[39;49m, cur[\u001b[39m1\u001b[39;49m]], judge, land_size)\n\u001b[0;32m     23\u001b[0m \u001b[39m#search left\u001b[39;00m\n\u001b[0;32m     24\u001b[0m \u001b[39mif\u001b[39;00m cur[\u001b[39m1\u001b[39m] \u001b[39m!=\u001b[39m \u001b[39m0\u001b[39m:\n",
      "Cell \u001b[1;32mIn[12], line 22\u001b[0m, in \u001b[0;36mdfs\u001b[1;34m(grid, cur, judge, land_size)\u001b[0m\n\u001b[0;32m     20\u001b[0m \u001b[39mif\u001b[39;00m cur[\u001b[39m0\u001b[39m] \u001b[39m!=\u001b[39m (\u001b[39mlen\u001b[39m(grid)\u001b[39m-\u001b[39m\u001b[39m1\u001b[39m):\n\u001b[0;32m     21\u001b[0m     \u001b[39mif\u001b[39;00m grid[cur[\u001b[39m0\u001b[39m]\u001b[39m+\u001b[39m\u001b[39m1\u001b[39m][cur[\u001b[39m1\u001b[39m]] \u001b[39m==\u001b[39m \u001b[39m1\u001b[39m:\n\u001b[1;32m---> 22\u001b[0m         judge, land_size \u001b[39m=\u001b[39m dfs(grid, [cur[\u001b[39m0\u001b[39;49m]\u001b[39m+\u001b[39;49m\u001b[39m1\u001b[39;49m, cur[\u001b[39m1\u001b[39;49m]], judge, land_size)\n\u001b[0;32m     23\u001b[0m \u001b[39m#search left\u001b[39;00m\n\u001b[0;32m     24\u001b[0m \u001b[39mif\u001b[39;00m cur[\u001b[39m1\u001b[39m] \u001b[39m!=\u001b[39m \u001b[39m0\u001b[39m:\n",
      "Cell \u001b[1;32mIn[12], line 26\u001b[0m, in \u001b[0;36mdfs\u001b[1;34m(grid, cur, judge, land_size)\u001b[0m\n\u001b[0;32m     24\u001b[0m \u001b[39mif\u001b[39;00m cur[\u001b[39m1\u001b[39m] \u001b[39m!=\u001b[39m \u001b[39m0\u001b[39m:\n\u001b[0;32m     25\u001b[0m     \u001b[39mif\u001b[39;00m grid[cur[\u001b[39m0\u001b[39m]][cur[\u001b[39m1\u001b[39m]\u001b[39m-\u001b[39m\u001b[39m1\u001b[39m] \u001b[39m==\u001b[39m \u001b[39m1\u001b[39m:\n\u001b[1;32m---> 26\u001b[0m         judge, land_size \u001b[39m=\u001b[39m dfs(grid, [cur[\u001b[39m0\u001b[39;49m], cur[\u001b[39m1\u001b[39;49m]\u001b[39m-\u001b[39;49m\u001b[39m1\u001b[39;49m], judge, land_size)\n\u001b[0;32m     27\u001b[0m \u001b[39m#search up\u001b[39;00m\n\u001b[0;32m     28\u001b[0m \u001b[39mif\u001b[39;00m cur[\u001b[39m0\u001b[39m] \u001b[39m!=\u001b[39m \u001b[39m0\u001b[39m:\n",
      "Cell \u001b[1;32mIn[12], line 30\u001b[0m, in \u001b[0;36mdfs\u001b[1;34m(grid, cur, judge, land_size)\u001b[0m\n\u001b[0;32m     28\u001b[0m \u001b[39mif\u001b[39;00m cur[\u001b[39m0\u001b[39m] \u001b[39m!=\u001b[39m \u001b[39m0\u001b[39m:\n\u001b[0;32m     29\u001b[0m     \u001b[39mif\u001b[39;00m grid[cur[\u001b[39m0\u001b[39m]\u001b[39m-\u001b[39m\u001b[39m1\u001b[39m][cur[\u001b[39m1\u001b[39m]] \u001b[39m==\u001b[39m \u001b[39m1\u001b[39m:\n\u001b[1;32m---> 30\u001b[0m         judge, land_size \u001b[39m=\u001b[39m dfs(grid, [cur[\u001b[39m0\u001b[39;49m]\u001b[39m+\u001b[39;49m\u001b[39m1\u001b[39;49m, cur[\u001b[39m1\u001b[39;49m]], judge, land_size)\n\u001b[0;32m     31\u001b[0m \u001b[39mreturn\u001b[39;00m judge, land_size\n",
      "Cell \u001b[1;32mIn[12], line 11\u001b[0m, in \u001b[0;36mdfs\u001b[1;34m(grid, cur, judge, land_size)\u001b[0m\n\u001b[0;32m      9\u001b[0m land_size \u001b[39m+\u001b[39m\u001b[39m=\u001b[39m \u001b[39m1\u001b[39m\n\u001b[0;32m     10\u001b[0m \u001b[39mprint\u001b[39m(cur, end\u001b[39m=\u001b[39m\u001b[39m\"\u001b[39m\u001b[39m \u001b[39m\u001b[39m\"\u001b[39m)\n\u001b[1;32m---> 11\u001b[0m grid[cur[\u001b[39m0\u001b[39;49m]][cur[\u001b[39m1\u001b[39m]] \u001b[39m=\u001b[39m \u001b[39m-\u001b[39m\u001b[39m1\u001b[39m\n\u001b[0;32m     12\u001b[0m \u001b[39mif\u001b[39;00m cur[\u001b[39m0\u001b[39m] \u001b[39m==\u001b[39m \u001b[39m0\u001b[39m \u001b[39mor\u001b[39;00m cur[\u001b[39m1\u001b[39m] \u001b[39m==\u001b[39m \u001b[39m0\u001b[39m \u001b[39mor\u001b[39;00m cur[\u001b[39m0\u001b[39m] \u001b[39m==\u001b[39m \u001b[39mlen\u001b[39m(grid)\u001b[39m-\u001b[39m\u001b[39m1\u001b[39m \u001b[39mor\u001b[39;00m cur[\u001b[39m1\u001b[39m] \u001b[39m==\u001b[39m \u001b[39mlen\u001b[39m(grid[\u001b[39m0\u001b[39m])\u001b[39m-\u001b[39m\u001b[39m1\u001b[39m:\n\u001b[0;32m     13\u001b[0m     judge \u001b[39m=\u001b[39m \u001b[39mFalse\u001b[39;00m\n",
      "\u001b[1;31mIndexError\u001b[0m: list index out of range"
     ]
    }
   ],
   "source": [
    "grid = [[0,0,0,1,1,1,0,1,0,0],[1,1,0,0,0,1,0,1,1,1],[0,0,0,1,1,1,0,1,0,0],[0,1,1,0,0,0,1,0,1,0],[0,1,1,1,1,1,0,0,1,0],[0,0,1,0,1,1,1,1,0,1],[0,1,1,0,0,0,1,1,1,1],[0,0,1,0,0,1,0,1,0,1],[1,0,1,0,1,1,0,0,0,0],[0,0,0,0,1,1,0,0,0,1]]\n",
    "\n",
    "result = dfs(grid, [7, 5], True, 0)"
   ]
  }
 ],
 "metadata": {
  "kernelspec": {
   "display_name": "basic_env",
   "language": "python",
   "name": "python3"
  },
  "language_info": {
   "codemirror_mode": {
    "name": "ipython",
    "version": 3
   },
   "file_extension": ".py",
   "mimetype": "text/x-python",
   "name": "python",
   "nbconvert_exporter": "python",
   "pygments_lexer": "ipython3",
   "version": "3.11.2"
  },
  "orig_nbformat": 4
 },
 "nbformat": 4,
 "nbformat_minor": 2
}
